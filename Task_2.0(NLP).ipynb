{
 "cells": [
  {
   "cell_type": "code",
   "execution_count": 1,
   "metadata": {},
   "outputs": [
    {
     "data": {
      "text/plain": [
       "FreqDist({'the': 6, 'of': 5, 'and': 5, 'language': 3, 'is': 2, 'computer': 2, 'computers': 2, 'in': 2, 'to': 2, 'The': 2, ...})"
      ]
     },
     "execution_count": 1,
     "metadata": {},
     "output_type": "execute_result"
    }
   ],
   "source": [
    "import nltk\n",
    "text1 = 'Natural language processing (NLP) is an interdisciplinary subfield of linguistics, computer science, and artificial intelligence concerned with the interactions between computers and human language, in particular how to program computers to process and analyze large amounts of natural language data. The goal is a computer capable of \"understanding\" the contents of documents, including the contextual nuances of the language within them. The technology can then accurately extract information and insights contained in the documents as well as categorize and organize the documents themselves.'\n",
    "fd = nltk.FreqDist(text1.split())\n",
    "fd"
   ]
  },
  {
   "cell_type": "code",
   "execution_count": 2,
   "metadata": {},
   "outputs": [
    {
     "data": {
      "text/plain": [
       "FreqDist({'of': 5, 'is': 2, 'in': 2, 'to': 2, 'as': 2, 'an': 1})"
      ]
     },
     "execution_count": 2,
     "metadata": {},
     "output_type": "execute_result"
    }
   ],
   "source": [
    "from nltk.probability import ConditionalFreqDist\n",
    "cfd = ConditionalFreqDist((len(word),word) for word in text1.split())\n",
    "cfd[2]"
   ]
  },
  {
   "cell_type": "code",
   "execution_count": 3,
   "metadata": {},
   "outputs": [
    {
     "name": "stderr",
     "output_type": "stream",
     "text": [
      "[nltk_data] Downloading package nps_chat to\n",
      "[nltk_data]     C:\\Users\\91758\\AppData\\Roaming\\nltk_data...\n",
      "[nltk_data]   Package nps_chat is already up-to-date!\n",
      "[nltk_data] Downloading package webtext to\n",
      "[nltk_data]     C:\\Users\\91758\\AppData\\Roaming\\nltk_data...\n",
      "[nltk_data]   Package webtext is already up-to-date!\n",
      "[nltk_data] Downloading collection 'popular'\n",
      "[nltk_data]    | \n",
      "[nltk_data]    | Downloading package cmudict to\n",
      "[nltk_data]    |     C:\\Users\\91758\\AppData\\Roaming\\nltk_data...\n",
      "[nltk_data]    |   Package cmudict is already up-to-date!\n",
      "[nltk_data]    | Downloading package gazetteers to\n",
      "[nltk_data]    |     C:\\Users\\91758\\AppData\\Roaming\\nltk_data...\n",
      "[nltk_data]    |   Package gazetteers is already up-to-date!\n",
      "[nltk_data]    | Downloading package genesis to\n",
      "[nltk_data]    |     C:\\Users\\91758\\AppData\\Roaming\\nltk_data...\n",
      "[nltk_data]    |   Package genesis is already up-to-date!\n",
      "[nltk_data]    | Downloading package gutenberg to\n",
      "[nltk_data]    |     C:\\Users\\91758\\AppData\\Roaming\\nltk_data...\n",
      "[nltk_data]    |   Package gutenberg is already up-to-date!\n",
      "[nltk_data]    | Downloading package inaugural to\n",
      "[nltk_data]    |     C:\\Users\\91758\\AppData\\Roaming\\nltk_data...\n",
      "[nltk_data]    |   Package inaugural is already up-to-date!\n",
      "[nltk_data]    | Downloading package movie_reviews to\n",
      "[nltk_data]    |     C:\\Users\\91758\\AppData\\Roaming\\nltk_data...\n",
      "[nltk_data]    |   Package movie_reviews is already up-to-date!\n",
      "[nltk_data]    | Downloading package names to\n",
      "[nltk_data]    |     C:\\Users\\91758\\AppData\\Roaming\\nltk_data...\n",
      "[nltk_data]    |   Package names is already up-to-date!\n",
      "[nltk_data]    | Downloading package shakespeare to\n",
      "[nltk_data]    |     C:\\Users\\91758\\AppData\\Roaming\\nltk_data...\n",
      "[nltk_data]    |   Package shakespeare is already up-to-date!\n",
      "[nltk_data]    | Downloading package stopwords to\n",
      "[nltk_data]    |     C:\\Users\\91758\\AppData\\Roaming\\nltk_data...\n",
      "[nltk_data]    |   Package stopwords is already up-to-date!\n",
      "[nltk_data]    | Downloading package treebank to\n",
      "[nltk_data]    |     C:\\Users\\91758\\AppData\\Roaming\\nltk_data...\n",
      "[nltk_data]    |   Package treebank is already up-to-date!\n",
      "[nltk_data]    | Downloading package twitter_samples to\n",
      "[nltk_data]    |     C:\\Users\\91758\\AppData\\Roaming\\nltk_data...\n",
      "[nltk_data]    |   Package twitter_samples is already up-to-date!\n",
      "[nltk_data]    | Downloading package omw to\n",
      "[nltk_data]    |     C:\\Users\\91758\\AppData\\Roaming\\nltk_data...\n",
      "[nltk_data]    |   Package omw is already up-to-date!\n",
      "[nltk_data]    | Downloading package omw-1.4 to\n",
      "[nltk_data]    |     C:\\Users\\91758\\AppData\\Roaming\\nltk_data...\n",
      "[nltk_data]    |   Package omw-1.4 is already up-to-date!\n",
      "[nltk_data]    | Downloading package wordnet to\n",
      "[nltk_data]    |     C:\\Users\\91758\\AppData\\Roaming\\nltk_data...\n",
      "[nltk_data]    |   Package wordnet is already up-to-date!\n",
      "[nltk_data]    | Downloading package wordnet2021 to\n",
      "[nltk_data]    |     C:\\Users\\91758\\AppData\\Roaming\\nltk_data...\n",
      "[nltk_data]    |   Package wordnet2021 is already up-to-date!\n",
      "[nltk_data]    | Downloading package wordnet31 to\n",
      "[nltk_data]    |     C:\\Users\\91758\\AppData\\Roaming\\nltk_data...\n",
      "[nltk_data]    |   Package wordnet31 is already up-to-date!\n",
      "[nltk_data]    | Downloading package wordnet_ic to\n",
      "[nltk_data]    |     C:\\Users\\91758\\AppData\\Roaming\\nltk_data...\n",
      "[nltk_data]    |   Package wordnet_ic is already up-to-date!\n",
      "[nltk_data]    | Downloading package words to\n",
      "[nltk_data]    |     C:\\Users\\91758\\AppData\\Roaming\\nltk_data...\n",
      "[nltk_data]    |   Package words is already up-to-date!\n",
      "[nltk_data]    | Downloading package maxent_ne_chunker to\n",
      "[nltk_data]    |     C:\\Users\\91758\\AppData\\Roaming\\nltk_data...\n",
      "[nltk_data]    |   Package maxent_ne_chunker is already up-to-date!\n",
      "[nltk_data]    | Downloading package punkt to\n",
      "[nltk_data]    |     C:\\Users\\91758\\AppData\\Roaming\\nltk_data...\n",
      "[nltk_data]    |   Package punkt is already up-to-date!\n",
      "[nltk_data]    | Downloading package snowball_data to\n",
      "[nltk_data]    |     C:\\Users\\91758\\AppData\\Roaming\\nltk_data...\n",
      "[nltk_data]    |   Package snowball_data is already up-to-date!\n",
      "[nltk_data]    | Downloading package averaged_perceptron_tagger to\n",
      "[nltk_data]    |     C:\\Users\\91758\\AppData\\Roaming\\nltk_data...\n",
      "[nltk_data]    |   Package averaged_perceptron_tagger is already up-\n",
      "[nltk_data]    |       to-date!\n",
      "[nltk_data]    | \n",
      "[nltk_data]  Done downloading collection popular\n",
      "[nltk_data] Downloading package brown to\n",
      "[nltk_data]     C:\\Users\\91758\\AppData\\Roaming\\nltk_data...\n",
      "[nltk_data]   Package brown is already up-to-date!\n"
     ]
    },
    {
     "name": "stdout",
     "output_type": "stream",
     "text": [
      "*** Introductory Examples for the NLTK Book ***\n",
      "Loading text1, ..., text9 and sent1, ..., sent9\n",
      "Type the name of the text or sentence to view it.\n",
      "Type: 'texts()' or 'sents()' to list the materials.\n",
      "text1: Moby Dick by Herman Melville 1851\n",
      "text2: Sense and Sensibility by Jane Austen 1811\n",
      "text3: The Book of Genesis\n",
      "text4: Inaugural Address Corpus\n",
      "text5: Chat Corpus\n",
      "text6: Monty Python and the Holy Grail\n",
      "text7: Wall Street Journal\n",
      "text8: Personals Corpus\n",
      "text9: The Man Who Was Thursday by G . K . Chesterton 1908\n"
     ]
    }
   ],
   "source": [
    "#to determine frequency distribution and conditional freq dist of any one of the presidential inaugural speeches\n",
    "# nouns mean business\n",
    "nltk.download('nps_chat')\n",
    "nltk.download('webtext')\n",
    "nltk.download('popular')\n",
    "nltk.download('brown')\n",
    "from nltk.book import *"
   ]
  },
  {
   "cell_type": "code",
   "execution_count": 4,
   "metadata": {},
   "outputs": [
    {
     "data": {
      "text/plain": [
       "FreqDist({',': 130, 'the': 126, '.': 108, 'and': 105, 'of': 82, 'to': 66, 'our': 58, 'we': 50, 'that': 48, 'a': 47, ...})"
      ]
     },
     "execution_count": 4,
     "metadata": {},
     "output_type": "execute_result"
    }
   ],
   "source": [
    "from nltk.corpus import inaugural\n",
    "text = inaugural.words(fileids='2009-Obama.txt')\n",
    "fd = nltk.FreqDist(text)\n",
    "fd"
   ]
  },
  {
   "cell_type": "code",
   "execution_count": 5,
   "metadata": {},
   "outputs": [
    {
     "data": {
      "text/plain": [
       "FreqDist({'those': 10, 'their': 9, 'every': 8, 'these': 7, 'world': 7, 'today': 5, 'words': 4, 'peace': 4, 'women': 4, 'power': 4, ...})"
      ]
     },
     "execution_count": 5,
     "metadata": {},
     "output_type": "execute_result"
    }
   ],
   "source": [
    "confd = ConditionalFreqDist((len(word),word) for word in text)\n",
    "confd[5]"
   ]
  },
  {
   "cell_type": "code",
   "execution_count": 8,
   "metadata": {},
   "outputs": [
    {
     "name": "stdout",
     "output_type": "stream",
     "text": [
      "Collecting jieba\n",
      "  Downloading jieba-0.42.1.tar.gz (19.2 MB)\n",
      "Building wheels for collected packages: jieba\n",
      "  Building wheel for jieba (setup.py): started\n",
      "  Building wheel for jieba (setup.py): finished with status 'done'\n",
      "  Created wheel for jieba: filename=jieba-0.42.1-py3-none-any.whl size=19314482 sha256=0fe98139cd591e84a9b6b93a1127c6ba274a32787866bdf56c85c7f35cbb3090\n",
      "  Stored in directory: c:\\users\\91758\\appdata\\local\\pip\\cache\\wheels\\ca\\38\\d8\\dfdfe73bec1d12026b30cb7ce8da650f3f0ea2cf155ea018ae\n",
      "Successfully built jieba\n",
      "Installing collected packages: jieba\n",
      "Successfully installed jieba-0.42.1\n",
      "Note: you may need to restart the kernel to use updated packages.\n"
     ]
    }
   ],
   "source": [
    "pip install jieba"
   ]
  },
  {
   "cell_type": "code",
   "execution_count": 9,
   "metadata": {},
   "outputs": [],
   "source": [
    "import jieba"
   ]
  },
  {
   "cell_type": "code",
   "execution_count": 10,
   "metadata": {},
   "outputs": [
    {
     "name": "stderr",
     "output_type": "stream",
     "text": [
      "Building prefix dict from the default dictionary ...\n",
      "Dumping model to file cache C:\\Users\\91758\\AppData\\Local\\Temp\\jieba.cache\n",
      "Loading model cost 0.668 seconds.\n",
      "Prefix dict has been built successfully.\n"
     ]
    },
    {
     "name": "stdout",
     "output_type": "stream",
     "text": [
      "他 今天 晚上 不来 参加 宴会 了 ， 对 吗 ？\n"
     ]
    }
   ],
   "source": [
    "seg = jieba.cut(\"他今天晚上不来参加宴会了，对吗？\",cut_all = True)\n",
    "print(\" \".join(seg))"
   ]
  },
  {
   "cell_type": "code",
   "execution_count": 11,
   "metadata": {},
   "outputs": [
    {
     "name": "stdout",
     "output_type": "stream",
     "text": [
      "['Become', 'an', 'expert', 'in', 'NLP']\n"
     ]
    }
   ],
   "source": [
    "sent = 'Become an expert in NLP'\n",
    "words = nltk.word_tokenize(sent)\n",
    "print(words)"
   ]
  },
  {
   "cell_type": "code",
   "execution_count": 12,
   "metadata": {},
   "outputs": [
    {
     "data": {
      "text/plain": [
       "['Cristiano Ronaldo dos Santos Aveiro GOIH ComM (Portuguese pronunciation; born 5 February 1985) is a Portuguese professional footballer who plays as a forward and captains the Portugal national team.',\n",
       " 'He is currently a free agent.',\n",
       " 'Widely regarded as one of the greatest players of all time, Ronaldo has won five Ballon dOr awards and four European Golden Shoes, the most by a European player.',\n",
       " 'He has won 32 trophies in his career, including seven league titles, five UEFA Champions Leagues, and the UEFA European Championship.',\n",
       " 'Ronaldo holds the records for most appearances (183), goals (140), and assists (42) in the Champions League, goals in the European Championship (14), international goals (118), and joint-most international appearances (196).',\n",
       " 'He is one of the few players to have made over 1,100 professional career appearances, and has scored over 800 official senior career goals for club and country.',\n",
       " 'He is the only male player to score in five World Cup tournaments.']"
      ]
     },
     "execution_count": 12,
     "metadata": {},
     "output_type": "execute_result"
    }
   ],
   "source": [
    "text2 = \"Cristiano Ronaldo dos Santos Aveiro GOIH ComM (Portuguese pronunciation; born 5 February 1985) is a Portuguese professional footballer who plays as a forward and captains the Portugal national team. He is currently a free agent. Widely regarded as one of the greatest players of all time, Ronaldo has won five Ballon dOr awards and four European Golden Shoes, the most by a European player. He has won 32 trophies in his career, including seven league titles, five UEFA Champions Leagues, and the UEFA European Championship. Ronaldo holds the records for most appearances (183), goals (140), and assists (42) in the Champions League, goals in the European Championship (14), international goals (118), and joint-most international appearances (196). He is one of the few players to have made over 1,100 professional career appearances, and has scored over 800 official senior career goals for club and country. He is the only male player to score in five World Cup tournaments.\"\n",
    "sentences = nltk.sent_tokenize(text2)\n",
    "sentences"
   ]
  },
  {
   "cell_type": "code",
   "execution_count": 13,
   "metadata": {},
   "outputs": [
    {
     "name": "stdout",
     "output_type": "stream",
     "text": [
      "['Cristiano', 'Ronaldo', 'dos', 'Santos', 'Aveiro', 'GOIH', 'ComM', '(', 'Portuguese', 'pronunciation', ';', 'born', '5', 'February', '1985', ')', 'is', 'a', 'Portuguese', 'professional', 'footballer', 'who', 'plays', 'as', 'a', 'forward', 'and', 'captains', 'the', 'Portugal', 'national', 'team', '.']\n",
      "[('Cristiano', 'NNP'), ('Ronaldo', 'NNP'), ('dos', 'NN'), ('Santos', 'NNP'), ('Aveiro', 'NNP'), ('GOIH', 'NNP'), ('ComM', 'NNP'), ('(', '('), ('Portuguese', 'JJ'), ('pronunciation', 'NN'), (';', ':'), ('born', 'CC'), ('5', 'CD'), ('February', 'NNP'), ('1985', 'CD'), (')', ')'), ('is', 'VBZ'), ('a', 'DT'), ('Portuguese', 'JJ'), ('professional', 'JJ'), ('footballer', 'NN'), ('who', 'WP'), ('plays', 'VBZ'), ('as', 'IN'), ('a', 'DT'), ('forward', 'NN'), ('and', 'CC'), ('captains', 'VBZ'), ('the', 'DT'), ('Portugal', 'NNP'), ('national', 'JJ'), ('team', 'NN'), ('.', '.')]\n",
      "['He', 'is', 'currently', 'a', 'free', 'agent', '.']\n",
      "[('He', 'PRP'), ('is', 'VBZ'), ('currently', 'RB'), ('a', 'DT'), ('free', 'JJ'), ('agent', 'NN'), ('.', '.')]\n",
      "['Widely', 'regarded', 'as', 'one', 'of', 'the', 'greatest', 'players', 'of', 'all', 'time', ',', 'Ronaldo', 'has', 'won', 'five', 'Ballon', 'dOr', 'awards', 'and', 'four', 'European', 'Golden', 'Shoes', ',', 'the', 'most', 'by', 'a', 'European', 'player', '.']\n",
      "[('Widely', 'RB'), ('regarded', 'VBN'), ('as', 'IN'), ('one', 'CD'), ('of', 'IN'), ('the', 'DT'), ('greatest', 'JJS'), ('players', 'NNS'), ('of', 'IN'), ('all', 'DT'), ('time', 'NN'), (',', ','), ('Ronaldo', 'NNP'), ('has', 'VBZ'), ('won', 'VBN'), ('five', 'CD'), ('Ballon', 'NNP'), ('dOr', 'NN'), ('awards', 'NNS'), ('and', 'CC'), ('four', 'CD'), ('European', 'JJ'), ('Golden', 'NNP'), ('Shoes', 'NNP'), (',', ','), ('the', 'DT'), ('most', 'RBS'), ('by', 'IN'), ('a', 'DT'), ('European', 'NNP'), ('player', 'NN'), ('.', '.')]\n",
      "['He', 'has', 'won', '32', 'trophies', 'in', 'his', 'career', ',', 'including', 'seven', 'league', 'titles', ',', 'five', 'UEFA', 'Champions', 'Leagues', ',', 'and', 'the', 'UEFA', 'European', 'Championship', '.']\n",
      "[('He', 'PRP'), ('has', 'VBZ'), ('won', 'VBN'), ('32', 'CD'), ('trophies', 'NNS'), ('in', 'IN'), ('his', 'PRP$'), ('career', 'NN'), (',', ','), ('including', 'VBG'), ('seven', 'CD'), ('league', 'JJ'), ('titles', 'NNS'), (',', ','), ('five', 'CD'), ('UEFA', 'NNP'), ('Champions', 'NNPS'), ('Leagues', 'NNP'), (',', ','), ('and', 'CC'), ('the', 'DT'), ('UEFA', 'NNP'), ('European', 'NNP'), ('Championship', 'NNP'), ('.', '.')]\n",
      "['Ronaldo', 'holds', 'the', 'records', 'for', 'most', 'appearances', '(', '183', ')', ',', 'goals', '(', '140', ')', ',', 'and', 'assists', '(', '42', ')', 'in', 'the', 'Champions', 'League', ',', 'goals', 'in', 'the', 'European', 'Championship', '(', '14', ')', ',', 'international', 'goals', '(', '118', ')', ',', 'and', 'joint-most', 'international', 'appearances', '(', '196', ')', '.']\n",
      "[('Ronaldo', 'NNP'), ('holds', 'VBZ'), ('the', 'DT'), ('records', 'NNS'), ('for', 'IN'), ('most', 'JJS'), ('appearances', 'NNS'), ('(', '('), ('183', 'CD'), (')', ')'), (',', ','), ('goals', 'NNS'), ('(', '('), ('140', 'CD'), (')', ')'), (',', ','), ('and', 'CC'), ('assists', 'NNS'), ('(', '('), ('42', 'CD'), (')', ')'), ('in', 'IN'), ('the', 'DT'), ('Champions', 'NNP'), ('League', 'NNP'), (',', ','), ('goals', 'NNS'), ('in', 'IN'), ('the', 'DT'), ('European', 'JJ'), ('Championship', 'NNP'), ('(', '('), ('14', 'CD'), (')', ')'), (',', ','), ('international', 'JJ'), ('goals', 'NNS'), ('(', '('), ('118', 'CD'), (')', ')'), (',', ','), ('and', 'CC'), ('joint-most', 'JJ'), ('international', 'JJ'), ('appearances', 'NNS'), ('(', '('), ('196', 'CD'), (')', ')'), ('.', '.')]\n",
      "['He', 'is', 'one', 'of', 'the', 'few', 'players', 'to', 'have', 'made', 'over', '1,100', 'professional', 'career', 'appearances', ',', 'and', 'has', 'scored', 'over', '800', 'official', 'senior', 'career', 'goals', 'for', 'club', 'and', 'country', '.']\n",
      "[('He', 'PRP'), ('is', 'VBZ'), ('one', 'CD'), ('of', 'IN'), ('the', 'DT'), ('few', 'JJ'), ('players', 'NNS'), ('to', 'TO'), ('have', 'VB'), ('made', 'VBN'), ('over', 'IN'), ('1,100', 'CD'), ('professional', 'JJ'), ('career', 'NN'), ('appearances', 'NNS'), (',', ','), ('and', 'CC'), ('has', 'VBZ'), ('scored', 'VBN'), ('over', 'IN'), ('800', 'CD'), ('official', 'JJ'), ('senior', 'JJ'), ('career', 'NN'), ('goals', 'NNS'), ('for', 'IN'), ('club', 'NN'), ('and', 'CC'), ('country', 'NN'), ('.', '.')]\n",
      "['He', 'is', 'the', 'only', 'male', 'player', 'to', 'score', 'in', 'five', 'World', 'Cup', 'tournaments', '.']\n",
      "[('He', 'PRP'), ('is', 'VBZ'), ('the', 'DT'), ('only', 'JJ'), ('male', 'NN'), ('player', 'NN'), ('to', 'TO'), ('score', 'VB'), ('in', 'IN'), ('five', 'CD'), ('World', 'NNP'), ('Cup', 'NNP'), ('tournaments', 'NNS'), ('.', '.')]\n"
     ]
    }
   ],
   "source": [
    "for sentence in sentences:\n",
    "  words = nltk.word_tokenize(sentence)\n",
    "  print(words)\n",
    "  tagged = nltk.pos_tag(words)\n",
    "  print(tagged)"
   ]
  },
  {
   "cell_type": "code",
   "execution_count": null,
   "metadata": {},
   "outputs": [],
   "source": []
  }
 ],
 "metadata": {
  "kernelspec": {
   "display_name": "Python 3",
   "language": "python",
   "name": "python3"
  },
  "language_info": {
   "codemirror_mode": {
    "name": "ipython",
    "version": 3
   },
   "file_extension": ".py",
   "mimetype": "text/x-python",
   "name": "python",
   "nbconvert_exporter": "python",
   "pygments_lexer": "ipython3",
   "version": "3.8.5"
  }
 },
 "nbformat": 4,
 "nbformat_minor": 4
}
